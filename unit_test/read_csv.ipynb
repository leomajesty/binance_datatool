{
 "cells": [
  {
   "cell_type": "code",
   "execution_count": 1,
   "metadata": {},
   "outputs": [],
   "source": [
    "import os\n",
    "os.chdir('..')"
   ]
  },
  {
   "cell_type": "code",
   "execution_count": 2,
   "metadata": {},
   "outputs": [],
   "source": [
    "from bhds.aws_kline import read_aws_kline_csv\n",
    "from config import Config\n",
    "import pandas as pd\n",
    "import time\n",
    "import polars as pl"
   ]
  },
  {
   "cell_type": "code",
   "execution_count": 3,
   "metadata": {},
   "outputs": [
    {
     "data": {
      "text/html": [
       "<div><style>\n",
       ".dataframe > thead > tr,\n",
       ".dataframe > tbody > tr {\n",
       "  text-align: right;\n",
       "  white-space: pre-wrap;\n",
       "}\n",
       "</style>\n",
       "<small>shape: (288, 10)</small><table border=\"1\" class=\"dataframe\"><thead><tr><th>candle_begin_time</th><th>open</th><th>high</th><th>low</th><th>close</th><th>volume</th><th>quote_volume</th><th>trade_num</th><th>taker_buy_base_asset_volume</th><th>taker_buy_quote_asset_volume</th></tr><tr><td>datetime[ms, UTC]</td><td>f64</td><td>f64</td><td>f64</td><td>f64</td><td>f64</td><td>f64</td><td>i64</td><td>f64</td><td>f64</td></tr></thead><tbody><tr><td>2024-10-28 00:00:00 UTC</td><td>1.17</td><td>1.17</td><td>1.17</td><td>1.17</td><td>0.0</td><td>0.0</td><td>0</td><td>0.0</td><td>0.0</td></tr><tr><td>2024-10-28 00:05:00 UTC</td><td>1.169</td><td>1.169</td><td>1.169</td><td>1.169</td><td>1.0</td><td>8.55432</td><td>1</td><td>0.0</td><td>0.0</td></tr><tr><td>2024-10-28 00:10:00 UTC</td><td>1.171</td><td>1.171</td><td>1.171</td><td>1.171</td><td>40.0</td><td>341.588386</td><td>1</td><td>40.0</td><td>341.588386</td></tr><tr><td>2024-10-28 00:15:00 UTC</td><td>1.171</td><td>1.171</td><td>1.168</td><td>1.168</td><td>23.0</td><td>196.720338</td><td>9</td><td>0.0</td><td>0.0</td></tr><tr><td>2024-10-28 00:20:00 UTC</td><td>1.17</td><td>1.171</td><td>1.17</td><td>1.171</td><td>100.0</td><td>854.569475</td><td>3</td><td>100.0</td><td>854.569475</td></tr><tr><td>&hellip;</td><td>&hellip;</td><td>&hellip;</td><td>&hellip;</td><td>&hellip;</td><td>&hellip;</td><td>&hellip;</td><td>&hellip;</td><td>&hellip;</td><td>&hellip;</td></tr><tr><td>2024-10-28 23:35:00 UTC</td><td>1.187</td><td>1.189</td><td>1.187</td><td>1.189</td><td>91.0</td><td>766.078399</td><td>5</td><td>22.0</td><td>185.270318</td></tr><tr><td>2024-10-28 23:40:00 UTC</td><td>1.189</td><td>1.189</td><td>1.189</td><td>1.189</td><td>1.0</td><td>8.410429</td><td>1</td><td>1.0</td><td>8.410429</td></tr><tr><td>2024-10-28 23:45:00 UTC</td><td>1.189</td><td>1.19</td><td>1.189</td><td>1.19</td><td>223.0</td><td>1874.804758</td><td>6</td><td>125.0</td><td>1051.275346</td></tr><tr><td>2024-10-28 23:50:00 UTC</td><td>1.186</td><td>1.188</td><td>1.186</td><td>1.188</td><td>8.0</td><td>67.396846</td><td>4</td><td>4.0</td><td>33.670034</td></tr><tr><td>2024-10-28 23:55:00 UTC</td><td>1.188</td><td>1.188</td><td>1.187</td><td>1.187</td><td>277.0</td><td>2332.380247</td><td>9</td><td>174.0</td><td>1464.646465</td></tr></tbody></table></div>"
      ],
      "text/plain": [
       "shape: (288, 10)\n",
       "┌──────────────┬───────┬───────┬───────┬───┬──────────────┬───────────┬──────────────┬─────────────┐\n",
       "│ candle_begin ┆ open  ┆ high  ┆ low   ┆ … ┆ quote_volume ┆ trade_num ┆ taker_buy_ba ┆ taker_buy_q │\n",
       "│ _time        ┆ ---   ┆ ---   ┆ ---   ┆   ┆ ---          ┆ ---       ┆ se_asset_vol ┆ uote_asset_ │\n",
       "│ ---          ┆ f64   ┆ f64   ┆ f64   ┆   ┆ f64          ┆ i64       ┆ ume          ┆ volume      │\n",
       "│ datetime[ms, ┆       ┆       ┆       ┆   ┆              ┆           ┆ ---          ┆ ---         │\n",
       "│ UTC]         ┆       ┆       ┆       ┆   ┆              ┆           ┆ f64          ┆ f64         │\n",
       "╞══════════════╪═══════╪═══════╪═══════╪═══╪══════════════╪═══════════╪══════════════╪═════════════╡\n",
       "│ 2024-10-28   ┆ 1.17  ┆ 1.17  ┆ 1.17  ┆ … ┆ 0.0          ┆ 0         ┆ 0.0          ┆ 0.0         │\n",
       "│ 00:00:00 UTC ┆       ┆       ┆       ┆   ┆              ┆           ┆              ┆             │\n",
       "│ 2024-10-28   ┆ 1.169 ┆ 1.169 ┆ 1.169 ┆ … ┆ 8.55432      ┆ 1         ┆ 0.0          ┆ 0.0         │\n",
       "│ 00:05:00 UTC ┆       ┆       ┆       ┆   ┆              ┆           ┆              ┆             │\n",
       "│ 2024-10-28   ┆ 1.171 ┆ 1.171 ┆ 1.171 ┆ … ┆ 341.588386   ┆ 1         ┆ 40.0         ┆ 341.588386  │\n",
       "│ 00:10:00 UTC ┆       ┆       ┆       ┆   ┆              ┆           ┆              ┆             │\n",
       "│ 2024-10-28   ┆ 1.171 ┆ 1.171 ┆ 1.168 ┆ … ┆ 196.720338   ┆ 9         ┆ 0.0          ┆ 0.0         │\n",
       "│ 00:15:00 UTC ┆       ┆       ┆       ┆   ┆              ┆           ┆              ┆             │\n",
       "│ 2024-10-28   ┆ 1.17  ┆ 1.171 ┆ 1.17  ┆ … ┆ 854.569475   ┆ 3         ┆ 100.0        ┆ 854.569475  │\n",
       "│ 00:20:00 UTC ┆       ┆       ┆       ┆   ┆              ┆           ┆              ┆             │\n",
       "│ …            ┆ …     ┆ …     ┆ …     ┆ … ┆ …            ┆ …         ┆ …            ┆ …           │\n",
       "│ 2024-10-28   ┆ 1.187 ┆ 1.189 ┆ 1.187 ┆ … ┆ 766.078399   ┆ 5         ┆ 22.0         ┆ 185.270318  │\n",
       "│ 23:35:00 UTC ┆       ┆       ┆       ┆   ┆              ┆           ┆              ┆             │\n",
       "│ 2024-10-28   ┆ 1.189 ┆ 1.189 ┆ 1.189 ┆ … ┆ 8.410429     ┆ 1         ┆ 1.0          ┆ 8.410429    │\n",
       "│ 23:40:00 UTC ┆       ┆       ┆       ┆   ┆              ┆           ┆              ┆             │\n",
       "│ 2024-10-28   ┆ 1.189 ┆ 1.19  ┆ 1.189 ┆ … ┆ 1874.804758  ┆ 6         ┆ 125.0        ┆ 1051.275346 │\n",
       "│ 23:45:00 UTC ┆       ┆       ┆       ┆   ┆              ┆           ┆              ┆             │\n",
       "│ 2024-10-28   ┆ 1.186 ┆ 1.188 ┆ 1.186 ┆ … ┆ 67.396846    ┆ 4         ┆ 4.0          ┆ 33.670034   │\n",
       "│ 23:50:00 UTC ┆       ┆       ┆       ┆   ┆              ┆           ┆              ┆             │\n",
       "│ 2024-10-28   ┆ 1.188 ┆ 1.188 ┆ 1.187 ┆ … ┆ 2332.380247  ┆ 9         ┆ 174.0        ┆ 1464.646465 │\n",
       "│ 23:55:00 UTC ┆       ┆       ┆       ┆   ┆              ┆           ┆              ┆             │\n",
       "└──────────────┴───────┴───────┴───────┴───┴──────────────┴───────────┴──────────────┴─────────────┘"
      ]
     },
     "execution_count": 3,
     "metadata": {},
     "output_type": "execute_result"
    }
   ],
   "source": [
    "p = '/home/lostleaf/crypto_data/binance_data/aws_data/data/futures/cm/daily/klines/THETAUSD_PERP/5m/THETAUSD_PERP-5m-2024-10-28.zip'\n",
    "\n",
    "read_aws_kline_csv(p)"
   ]
  },
  {
   "cell_type": "code",
   "execution_count": 4,
   "metadata": {},
   "outputs": [
    {
     "ename": "FileNotFoundError",
     "evalue": "[Errno 2] No such file or directory: 'unit_test/klines.json'",
     "output_type": "error",
     "traceback": [
      "\u001b[0;31m---------------------------------------------------------------------------\u001b[0m",
      "\u001b[0;31mFileNotFoundError\u001b[0m                         Traceback (most recent call last)",
      "Cell \u001b[0;32mIn[4], line 2\u001b[0m\n\u001b[1;32m      1\u001b[0m \u001b[38;5;28;01mimport\u001b[39;00m \u001b[38;5;21;01mjson\u001b[39;00m\n\u001b[0;32m----> 2\u001b[0m klines \u001b[38;5;241m=\u001b[39m json\u001b[38;5;241m.\u001b[39mload(\u001b[38;5;28;43mopen\u001b[39;49m\u001b[43m(\u001b[49m\u001b[38;5;124;43m'\u001b[39;49m\u001b[38;5;124;43munit_test/klines.json\u001b[39;49m\u001b[38;5;124;43m'\u001b[39;49m\u001b[43m)\u001b[49m)\n\u001b[1;32m      3\u001b[0m \u001b[38;5;28mprint\u001b[39m(\u001b[38;5;28mlen\u001b[39m(klines))\n",
      "File \u001b[0;32m~/anaconda3/envs/datatool/lib/python3.12/site-packages/IPython/core/interactiveshell.py:324\u001b[0m, in \u001b[0;36m_modified_open\u001b[0;34m(file, *args, **kwargs)\u001b[0m\n\u001b[1;32m    317\u001b[0m \u001b[38;5;28;01mif\u001b[39;00m file \u001b[38;5;129;01min\u001b[39;00m {\u001b[38;5;241m0\u001b[39m, \u001b[38;5;241m1\u001b[39m, \u001b[38;5;241m2\u001b[39m}:\n\u001b[1;32m    318\u001b[0m     \u001b[38;5;28;01mraise\u001b[39;00m \u001b[38;5;167;01mValueError\u001b[39;00m(\n\u001b[1;32m    319\u001b[0m         \u001b[38;5;124mf\u001b[39m\u001b[38;5;124m\"\u001b[39m\u001b[38;5;124mIPython won\u001b[39m\u001b[38;5;124m'\u001b[39m\u001b[38;5;124mt let you open fd=\u001b[39m\u001b[38;5;132;01m{\u001b[39;00mfile\u001b[38;5;132;01m}\u001b[39;00m\u001b[38;5;124m by default \u001b[39m\u001b[38;5;124m\"\u001b[39m\n\u001b[1;32m    320\u001b[0m         \u001b[38;5;124m\"\u001b[39m\u001b[38;5;124mas it is likely to crash IPython. If you know what you are doing, \u001b[39m\u001b[38;5;124m\"\u001b[39m\n\u001b[1;32m    321\u001b[0m         \u001b[38;5;124m\"\u001b[39m\u001b[38;5;124myou can use builtins\u001b[39m\u001b[38;5;124m'\u001b[39m\u001b[38;5;124m open.\u001b[39m\u001b[38;5;124m\"\u001b[39m\n\u001b[1;32m    322\u001b[0m     )\n\u001b[0;32m--> 324\u001b[0m \u001b[38;5;28;01mreturn\u001b[39;00m \u001b[43mio_open\u001b[49m\u001b[43m(\u001b[49m\u001b[43mfile\u001b[49m\u001b[43m,\u001b[49m\u001b[43m \u001b[49m\u001b[38;5;241;43m*\u001b[39;49m\u001b[43margs\u001b[49m\u001b[43m,\u001b[49m\u001b[43m \u001b[49m\u001b[38;5;241;43m*\u001b[39;49m\u001b[38;5;241;43m*\u001b[39;49m\u001b[43mkwargs\u001b[49m\u001b[43m)\u001b[49m\n",
      "\u001b[0;31mFileNotFoundError\u001b[0m: [Errno 2] No such file or directory: 'unit_test/klines.json'"
     ]
    }
   ],
   "source": [
    "import json\n",
    "klines = json.load(open('unit_test/klines.json'))\n",
    "print(len(klines))"
   ]
  },
  {
   "cell_type": "code",
   "execution_count": null,
   "metadata": {},
   "outputs": [],
   "source": [
    "columns = [\n",
    "    'candle_begin_time', 'open', 'high', 'low', 'close', 'volume', 'close_time', 'quote_volume', 'trade_num',\n",
    "    'taker_buy_base_asset_volume', 'taker_buy_quote_asset_volume', 'ignore'\n",
    "]\n",
    "\n",
    "types = {\n",
    "    'candle_begin_time': int,\n",
    "    'open': float,\n",
    "    'high': float,\n",
    "    'low': float,\n",
    "    'close': float,\n",
    "    'volume': float,\n",
    "    'quote_volume': float,\n",
    "    'trade_num': int,\n",
    "    'taker_buy_base_asset_volume': float,\n",
    "    'taker_buy_quote_asset_volume': float\n",
    "}\n",
    "\n",
    "t_start = time.perf_counter_ns()\n",
    "df = pd.DataFrame(klines, columns=columns)\n",
    "df.drop(columns=['ignore', 'close_time'], inplace=True)\n",
    "\n",
    "\n",
    "df = df.astype(types)\n",
    "df['candle_begin_time'] = pd.to_datetime(df['candle_begin_time'], unit='ms', utc=True)\n",
    "\n",
    "time_ms = (time.perf_counter_ns() - t_start) / 1000_000\n",
    "print(f'Pandas time {time_ms:.2f} ms')"
   ]
  },
  {
   "cell_type": "code",
   "execution_count": null,
   "metadata": {},
   "outputs": [],
   "source": [
    "columns = [\n",
    "    'candle_begin_time', 'open', 'high', 'low', 'close', 'volume', 'close_time', 'quote_volume', 'trade_num',\n",
    "    'taker_buy_base_asset_volume', 'taker_buy_quote_asset_volume', 'ignore'\n",
    "]\n",
    "schema = {\n",
    "    'candle_begin_time': pl.Int64,\n",
    "    'open': pl.Float64,\n",
    "    'high': pl.Float64,\n",
    "    'low': pl.Float64,\n",
    "    'close': pl.Float64,\n",
    "    'volume': pl.Float64,\n",
    "    'quote_volume': pl.Float64,\n",
    "    'trade_num': pl.Int64,\n",
    "    'taker_buy_base_asset_volume': pl.Float64,\n",
    "    'taker_buy_quote_asset_volume': pl.Float64\n",
    "}\n",
    "\n",
    "t_start = time.perf_counter_ns()\n",
    "lf = pl.LazyFrame(klines, schema=columns, orient='row', schema_overrides=schema)\n",
    "lf = lf.drop('close_time', 'ignore')\n",
    "lf = lf.with_columns(pl.col('candle_begin_time').cast(pl.Datetime('ms')).dt.replace_time_zone('UTC'))\n",
    "df = lf.collect()\n",
    "time_ms = (time.perf_counter_ns() - t_start) / 1000_000\n",
    "print(f'Polars time {time_ms:.2f} ms')"
   ]
  }
 ],
 "metadata": {
  "kernelspec": {
   "display_name": "datatool",
   "language": "python",
   "name": "python3"
  },
  "language_info": {
   "codemirror_mode": {
    "name": "ipython",
    "version": 3
   },
   "file_extension": ".py",
   "mimetype": "text/x-python",
   "name": "python",
   "nbconvert_exporter": "python",
   "pygments_lexer": "ipython3",
   "version": "3.12.7"
  }
 },
 "nbformat": 4,
 "nbformat_minor": 2
}
