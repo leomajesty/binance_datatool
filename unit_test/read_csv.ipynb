{
 "cells": [
  {
   "cell_type": "code",
   "execution_count": null,
   "metadata": {},
   "outputs": [],
   "source": [
    "import os\n",
    "os.chdir('..')"
   ]
  },
  {
   "cell_type": "code",
   "execution_count": null,
   "metadata": {},
   "outputs": [],
   "source": [
    "import time\n",
    "\n",
    "import pandas as pd\n",
    "import polars as pl\n",
    "\n",
    "from bhds import aws_kline\n",
    "from config import Config\n",
    "from constant import TradeType"
   ]
  },
  {
   "cell_type": "code",
   "execution_count": null,
   "metadata": {},
   "outputs": [],
   "source": [
    "import bhds.aws_basics\n",
    "import bhds.polars_kline\n",
    "\n",
    "\n",
    "d = Config.BINANCE_DATA_DIR / 'aws_data' / aws_kline.get_aws_dir(bhds.aws_basics.get_kline_path_tokens('um_futures'))\n",
    "p = d / 'BTCUSDT' / '5m' / 'BTCUSDT-5m-2024-10-28.zip'\n",
    "print(p)\n",
    "bhds.polars_kline.read_aws_kline_csv(p)\n",
    "aws_kline.find_kline_missing_dts_all_symbols(TradeType.um_futures, '1m')"
   ]
  },
  {
   "cell_type": "code",
   "execution_count": null,
   "metadata": {},
   "outputs": [],
   "source": [
    "columns = [\n",
    "    'candle_begin_time', 'open', 'high', 'low', 'close', 'volume', 'close_time', 'quote_volume', 'trade_num',\n",
    "    'taker_buy_base_asset_volume', 'taker_buy_quote_asset_volume', 'ignore'\n",
    "]\n",
    "\n",
    "types = {\n",
    "    'candle_begin_time': int,\n",
    "    'open': float,\n",
    "    'high': float,\n",
    "    'low': float,\n",
    "    'close': float,\n",
    "    'volume': float,\n",
    "    'quote_volume': float,\n",
    "    'trade_num': int,\n",
    "    'taker_buy_base_asset_volume': float,\n",
    "    'taker_buy_quote_asset_volume': float\n",
    "}\n",
    "\n",
    "t_start = time.perf_counter_ns()\n",
    "df = pd.DataFrame(klines, columns=columns)\n",
    "df.drop(columns=['ignore', 'close_time'], inplace=True)\n",
    "\n",
    "\n",
    "df = df.astype(types)\n",
    "df['candle_begin_time'] = pd.to_datetime(df['candle_begin_time'], unit='ms', utc=True)\n",
    "\n",
    "time_ms = (time.perf_counter_ns() - t_start) / 1000_000\n",
    "print(f'Pandas time {time_ms:.2f} ms')"
   ]
  },
  {
   "cell_type": "code",
   "execution_count": null,
   "metadata": {},
   "outputs": [],
   "source": [
    "columns = [\n",
    "    'candle_begin_time', 'open', 'high', 'low', 'close', 'volume', 'close_time', 'quote_volume', 'trade_num',\n",
    "    'taker_buy_base_asset_volume', 'taker_buy_quote_asset_volume', 'ignore'\n",
    "]\n",
    "schema = {\n",
    "    'candle_begin_time': pl.Int64,\n",
    "    'open': pl.Float64,\n",
    "    'high': pl.Float64,\n",
    "    'low': pl.Float64,\n",
    "    'close': pl.Float64,\n",
    "    'volume': pl.Float64,\n",
    "    'quote_volume': pl.Float64,\n",
    "    'trade_num': pl.Int64,\n",
    "    'taker_buy_base_asset_volume': pl.Float64,\n",
    "    'taker_buy_quote_asset_volume': pl.Float64\n",
    "}\n",
    "\n",
    "t_start = time.perf_counter_ns()\n",
    "lf = pl.LazyFrame(klines, schema=columns, orient='row', schema_overrides=schema)\n",
    "lf = lf.drop('close_time', 'ignore')\n",
    "lf = lf.with_columns(pl.col('candle_begin_time').cast(pl.Datetime('ms')).dt.replace_time_zone('UTC'))\n",
    "df = lf.collect()\n",
    "time_ms = (time.perf_counter_ns() - t_start) / 1000_000\n",
    "print(f'Polars time {time_ms:.2f} ms')"
   ]
  }
 ],
 "metadata": {
  "kernelspec": {
   "display_name": "datatool",
   "language": "python",
   "name": "python3"
  },
  "language_info": {
   "codemirror_mode": {
    "name": "ipython",
    "version": 3
   },
   "file_extension": ".py",
   "mimetype": "text/x-python",
   "name": "python",
   "nbconvert_exporter": "python",
   "pygments_lexer": "ipython3",
   "version": "3.12.7"
  }
 },
 "nbformat": 4,
 "nbformat_minor": 2
}
