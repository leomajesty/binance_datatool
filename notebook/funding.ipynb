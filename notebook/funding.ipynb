{
 "cells": [
  {
   "cell_type": "code",
   "execution_count": null,
   "metadata": {},
   "outputs": [],
   "source": [
    "import os\n",
    "\n",
    "os.chdir('..')"
   ]
  },
  {
   "cell_type": "code",
   "execution_count": null,
   "metadata": {},
   "outputs": [],
   "source": [
    "from zipfile import ZipFile\n",
    "\n",
    "import polars as pl\n",
    "\n",
    "from bhds.aws_basics import AWS_TIMEOUT_SEC, get_aws_dir, get_funding_rate_path_tokens, get_kline_path_tokens\n",
    "from bhds import aws_funding\n",
    "from config import Config\n",
    "from constant import TradeType\n",
    "from fetcher.binance import BinanceFetcher\n",
    "from util.network import create_aiohttp_session"
   ]
  },
  {
   "cell_type": "code",
   "execution_count": null,
   "metadata": {},
   "outputs": [],
   "source": [
    "http_proxy = 'http://127.0.0.1:7890'\n",
    "\n",
    "async with create_aiohttp_session(AWS_TIMEOUT_SEC) as session:\n",
    "    fetcher = BinanceFetcher(TradeType.um_futures, session, http_proxy)\n",
    "    df = await fetcher.get_hist_funding_rate(symbol='BTCUSDT', limit=1000)\n",
    "\n",
    "df"
   ]
  },
  {
   "cell_type": "code",
   "execution_count": null,
   "metadata": {},
   "outputs": [],
   "source": [
    "trade_type = TradeType.um_futures\n",
    "funding_dir = Config.BINANCE_DATA_DIR / 'aws_data' / get_aws_dir(get_funding_rate_path_tokens(trade_type))\n",
    "funding_dir = Config.BINANCE_DATA_DIR / 'api_data' / 'funding_rate'/ trade_type.value\n",
    "funding_files = sorted(funding_dir.glob('*.pqt'))\n",
    "\n",
    "last_begin_time = []\n",
    "for funding_file in funding_files:\n",
    "    df = pl.read_parquet(funding_file)\n",
    "    symbol = funding_file.stem\n",
    "    last_begin_time.append({'symbol': symbol, 'last_begin_time': df['candle_begin_time'].max()})\n",
    "\n",
    "pl.DataFrame(last_begin_time).sort('last_begin_time')"
   ]
  },
  {
   "cell_type": "code",
   "execution_count": null,
   "metadata": {},
   "outputs": [],
   "source": [
    "p = '/mnt/ssd_data/crypto_data/binance_data/aws_data/data/futures/um/monthly/fundingRate/BTCUSDT/BTCUSDT-fundingRate-2024-11.zip'\n",
    "with ZipFile(p) as f:\n",
    "    filename = f.namelist()[0]\n",
    "    lines = f.open(filename).readlines()\n",
    "if lines[0].decode().startswith('calc_time'):\n",
    "    print(lines[0])\n",
    "    lines = lines[1:]\n",
    "\n",
    "columns = ['candle_begin_time', 'funding_interval_hours', 'funding_rate']\n",
    "schema = {\n",
    "    'candle_begin_time': pl.Int64,\n",
    "    'funding_rate': pl.Float64,\n",
    "}\n",
    "df_lazy = pl.scan_csv(lines, has_header=False, new_columns=columns, schema_overrides=schema)\n",
    "df_lazy = df_lazy.drop('funding_interval_hours')\n",
    "candle_begin_time = pl.col('candle_begin_time') - pl.col('candle_begin_time') % (60 * 60 * 1000)\n",
    "df_lazy = df_lazy.with_columns(candle_begin_time.cast(pl.Datetime('ms')).dt.replace_time_zone('UTC'))\n",
    "\n",
    "df_lazy.collect()"
   ]
  }
 ],
 "metadata": {
  "kernelspec": {
   "display_name": "datatool",
   "language": "python",
   "name": "python3"
  },
  "language_info": {
   "codemirror_mode": {
    "name": "ipython",
    "version": 3
   },
   "file_extension": ".py",
   "mimetype": "text/x-python",
   "name": "python",
   "nbconvert_exporter": "python",
   "pygments_lexer": "ipython3",
   "version": "3.12.7"
  }
 },
 "nbformat": 4,
 "nbformat_minor": 2
}
