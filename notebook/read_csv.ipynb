{
 "cells": [
  {
   "cell_type": "code",
   "execution_count": 1,
   "metadata": {},
   "outputs": [],
   "source": [
    "import os\n",
    "os.chdir('..')"
   ]
  },
  {
   "cell_type": "code",
   "execution_count": 2,
   "metadata": {},
   "outputs": [],
   "source": [
    "from pathlib import Path\n",
    "\n",
    "from config import DataFreq\n",
    "from util.db import PartitionedPolarsDB\n",
    "from dateutil import parser\n",
    "from datetime import timezone\n",
    "import polars as pl"
   ]
  },
  {
   "cell_type": "code",
   "execution_count": null,
   "metadata": {},
   "outputs": [],
   "source": [
    "data_dir = Path('/home/lostleaf/crypto_data/binance_data/parsed_data/spot/klines/BTCUSDT/1m')\n",
    "db = PartitionedPolarsDB(data_dir, DataFreq.daily)\n",
    "ldf = db.scan_all()\n",
    "\n",
    "start = parser.parse('2018-01-01 00:00:00 UTC').astimezone(timezone.utc)\n",
    "ldf = ldf.filter(pl.col('candle_begin_time') >= start)\n",
    "ldf.collect()"
   ]
  },
  {
   "cell_type": "code",
   "execution_count": null,
   "metadata": {},
   "outputs": [],
   "source": [
    "symbol = 'XRPUSDT'\n",
    "aws_dir = Config.BINANCE_DATA_DIR / 'aws_data' / aws_kline.get_aws_dir(aws_kline.get_kline_path_tokens('um_futures'))\n",
    "aws_kline_paths = sorted(aws_dir.glob(f'{symbol}/5m/*.zip'))\n",
    "\n",
    "api_dir = Config.BINANCE_DATA_DIR / 'api_data' / 'kline' / 'um_futures'\n",
    "api_kine_paths = sorted(api_dir.glob(f'{symbol}/5m/*.pqt'))\n",
    "\n",
    "df_ = polars_kline.read_aws_symbol_kline(aws_kline_paths, api_kine_paths)\n",
    "df_"
   ]
  },
  {
   "cell_type": "code",
   "execution_count": null,
   "metadata": {},
   "outputs": [],
   "source": [
    "df = df_.clone()\n",
    "df = df.filter(pl.col('volume') > 0)\n",
    "df = df.with_columns(pl.col('candle_begin_time').diff().alias('diff'))\n",
    "df.filter(pl.col('diff') > timedelta(minutes=5))"
   ]
  },
  {
   "cell_type": "code",
   "execution_count": null,
   "metadata": {},
   "outputs": [],
   "source": [
    "columns = [\n",
    "    'candle_begin_time', 'open', 'high', 'low', 'close', 'volume', 'close_time', 'quote_volume', 'trade_num',\n",
    "    'taker_buy_base_asset_volume', 'taker_buy_quote_asset_volume', 'ignore'\n",
    "]\n",
    "schema = {\n",
    "    'candle_begin_time': pl.Int64,\n",
    "    'open': pl.Float64,\n",
    "    'high': pl.Float64,\n",
    "    'low': pl.Float64,\n",
    "    'close': pl.Float64,\n",
    "    'volume': pl.Float64,\n",
    "    'quote_volume': pl.Float64,\n",
    "    'trade_num': pl.Int64,\n",
    "    'taker_buy_base_asset_volume': pl.Float64,\n",
    "    'taker_buy_quote_asset_volume': pl.Float64\n",
    "}\n",
    "\n",
    "t_start = time.perf_counter_ns()\n",
    "lf = pl.LazyFrame(klines, schema=columns, orient='row', schema_overrides=schema)\n",
    "lf = lf.drop('close_time', 'ignore')\n",
    "lf = lf.with_columns(pl.col('candle_begin_time').cast(pl.Datetime('ms')).dt.replace_time_zone('UTC'))\n",
    "df = lf.collect()\n",
    "time_ms = (time.perf_counter_ns() - t_start) / 1000_000\n",
    "print(f'Polars time {time_ms:.2f} ms')"
   ]
  }
 ],
 "metadata": {
  "kernelspec": {
   "display_name": "datatool",
   "language": "python",
   "name": "python3"
  },
  "language_info": {
   "codemirror_mode": {
    "name": "ipython",
    "version": 3
   },
   "file_extension": ".py",
   "mimetype": "text/x-python",
   "name": "python",
   "nbconvert_exporter": "python",
   "pygments_lexer": "ipython3",
   "version": "3.12.8"
  }
 },
 "nbformat": 4,
 "nbformat_minor": 2
}
