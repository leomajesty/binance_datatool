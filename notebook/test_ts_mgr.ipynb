{
 "cells": [
  {
   "cell_type": "code",
   "execution_count": null,
   "metadata": {},
   "outputs": [],
   "source": [
    "import os\n",
    "os.chdir('..')\n",
    "os.environ['LINE_PROFILE'] = '1'"
   ]
  },
  {
   "cell_type": "code",
   "execution_count": null,
   "metadata": {},
   "outputs": [],
   "source": [
    "from datetime import timezone\n",
    "from pathlib import Path\n",
    "\n",
    "import polars as pl\n",
    "from dateutil import parser\n",
    "from datetime import timedelta\n",
    "\n",
    "from config import DataFrequency, BINANCE_DATA_DIR, TradeType\n",
    "\n",
    "from util.ts_manager import TSManager\n",
    "from aws.kline.parse import read_csv\n",
    "from aws.client_async import AwsKlineClient"
   ]
  },
  {
   "cell_type": "code",
   "execution_count": null,
   "metadata": {},
   "outputs": [],
   "source": [
    "symbol = 'BTCUSDT'\n",
    "time_interval = '1m'\n",
    "base_dir = AwsKlineClient.get_base_dir(TradeType.spot, data_freq=DataFrequency.daily)\n",
    "aws_dir = BINANCE_DATA_DIR / 'aws_data' / base_dir / symbol / time_interval\n",
    "aws_kline_files = sorted(aws_dir.glob(f'*.zip'))\n",
    "\n",
    "# d = {f.stem: read_csv(f) for f in aws_kline_files}\n",
    "# print(d.keys())"
   ]
  },
  {
   "cell_type": "code",
   "execution_count": null,
   "metadata": {},
   "outputs": [],
   "source": [
    "mgr = TSManager('/home/lostleaf/crypto_data/binance_data/parsed_data/spot/klines/BTCUSDT/1m/')\n",
    "c = mgr.get_row_count_per_date()\n",
    "c.filter(pl.col('row_count') != 1440)\n",
    "\n",
    "df1 = mgr.read_all()\n",
    "\n",
    "print(df1.shape)\n",
    "\n",
    "ldf1 = df1.lazy()"
   ]
  },
  {
   "cell_type": "code",
   "execution_count": null,
   "metadata": {},
   "outputs": [],
   "source": [
    "api_dir = Path('/home/lostleaf/crypto_data/binance_data/api_data/kline/spot/BTCUSDT/1m')\n",
    "api_files = sorted(api_dir.glob('*.pqt'))\n",
    "ldf2 = pl.scan_parquet(api_files).drop('candle_end_time')\n",
    "\n",
    "ldf = pl.concat([ldf1, ldf2])\n",
    "ldf = ldf.unique('candle_begin_time', keep='last').sort('candle_begin_time')\n",
    "ldf = ldf.with_columns(\n",
    "    (pl.col('quote_volume') / pl.col('volume'))\n",
    "    .fill_null(pl.col('open'))\n",
    "    .clip(pl.col('low'), pl.col('high'))\n",
    "    .alias('vwap1m')\n",
    ")\n",
    "\n",
    "df = ldf.collect()\n",
    "df.tail(10)"
   ]
  }
 ],
 "metadata": {
  "kernelspec": {
   "display_name": "datatool",
   "language": "python",
   "name": "python3"
  },
  "language_info": {
   "codemirror_mode": {
    "name": "ipython",
    "version": 3
   },
   "file_extension": ".py",
   "mimetype": "text/x-python",
   "name": "python",
   "nbconvert_exporter": "python",
   "pygments_lexer": "ipython3",
   "version": "3.12.8"
  }
 },
 "nbformat": 4,
 "nbformat_minor": 2
}
