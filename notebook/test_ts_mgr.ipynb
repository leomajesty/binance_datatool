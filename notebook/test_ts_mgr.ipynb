{
 "cells": [
  {
   "cell_type": "code",
   "execution_count": 1,
   "metadata": {},
   "outputs": [],
   "source": [
    "import os\n",
    "os.chdir('..')\n",
    "os.environ['LINE_PROFILE'] = '1'"
   ]
  },
  {
   "cell_type": "code",
   "execution_count": 2,
   "metadata": {},
   "outputs": [],
   "source": [
    "from datetime import timezone\n",
    "from pathlib import Path\n",
    "\n",
    "import polars as pl\n",
    "from dateutil import parser\n",
    "\n",
    "from config import DataFrequency, BINANCE_DATA_DIR, TradeType\n",
    "\n",
    "from util.ts_manager import TSManager\n",
    "from aws.kline.parse import read_csv\n",
    "from aws.client_async import AwsKlineClient"
   ]
  },
  {
   "cell_type": "code",
   "execution_count": 18,
   "metadata": {},
   "outputs": [],
   "source": [
    "symbol = 'XRPUSDT'\n",
    "time_interval = '1m'\n",
    "base_dir = AwsKlineClient.get_base_dir(TradeType.um_futures, data_freq=DataFrequency.daily)\n",
    "aws_dir = BINANCE_DATA_DIR / 'aws_data' / base_dir / symbol / time_interval\n",
    "aws_kline_files = sorted(aws_dir.glob(f'*.zip'))\n",
    "df = pl.concat([read_csv(f) for f in aws_kline_files])"
   ]
  },
  {
   "cell_type": "code",
   "execution_count": null,
   "metadata": {},
   "outputs": [],
   "source": [
    "import importlib\n",
    "import util\n",
    "import util.ts_manager\n",
    "importlib.reload(util.ts_manager)\n",
    "\n",
    "# 提取月份并添加到 DataFrame 中\n",
    "df = df.with_columns(\n",
    "    pl.col(\"candle_begin_time\").dt.strftime(\"%Y-%m\").alias(\"month\")\n",
    ")\n",
    "\n",
    "# 按月份拆分 DataFrame\n",
    "split_dfs = df.partition_by(\"month\")\n",
    "\n",
    "data_dir = BINANCE_DATA_DIR / 'parsed_data' / TradeType.um_futures.value / 'klines' / symbol / time_interval\n",
    "\n",
    "mgr = TSManager(data_dir, data_freq=DataFrequency.monthly)\n",
    "\n",
    "for df1 in split_dfs:\n",
    "    df1 = df1.drop('month')\n",
    "    mgr.update(df1)"
   ]
  },
  {
   "cell_type": "code",
   "execution_count": null,
   "metadata": {},
   "outputs": [],
   "source": [
    "pl.read_parquet('/home/lostleaf/crypto_data/binance_data/parsed_data/um_futures/klines/XRPUSDT/1m/202401.pqt')"
   ]
  }
 ],
 "metadata": {
  "kernelspec": {
   "display_name": "datatool",
   "language": "python",
   "name": "python3"
  },
  "language_info": {
   "codemirror_mode": {
    "name": "ipython",
    "version": 3
   },
   "file_extension": ".py",
   "mimetype": "text/x-python",
   "name": "python",
   "nbconvert_exporter": "python",
   "pygments_lexer": "ipython3",
   "version": "3.12.8"
  }
 },
 "nbformat": 4,
 "nbformat_minor": 2
}
