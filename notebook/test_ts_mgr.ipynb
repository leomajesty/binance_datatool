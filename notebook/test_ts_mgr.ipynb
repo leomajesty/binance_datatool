{
 "cells": [
  {
   "cell_type": "code",
   "execution_count": 1,
   "metadata": {},
   "outputs": [],
   "source": [
    "import os\n",
    "os.chdir('..')\n",
    "os.environ['LINE_PROFILE'] = '1'"
   ]
  },
  {
   "cell_type": "code",
   "execution_count": 2,
   "metadata": {},
   "outputs": [],
   "source": [
    "from datetime import timezone\n",
    "from pathlib import Path\n",
    "\n",
    "import polars as pl\n",
    "from dateutil import parser\n",
    "\n",
    "from config import DataFrequency, BINANCE_DATA_DIR, TradeType\n",
    "\n",
    "from util.ts_manager import TSManager\n",
    "from aws.kline.parse import read_csv\n",
    "from aws.client_async import AwsKlineClient"
   ]
  },
  {
   "cell_type": "code",
   "execution_count": 3,
   "metadata": {},
   "outputs": [],
   "source": [
    "symbol = 'BTCUSDT'\n",
    "time_interval = '1m'\n",
    "base_dir = AwsKlineClient.get_base_dir(TradeType.spot, data_freq=DataFrequency.daily)\n",
    "aws_dir = BINANCE_DATA_DIR / 'aws_data' / base_dir / symbol / time_interval\n",
    "aws_kline_files = sorted(aws_dir.glob(f'*.zip'))\n",
    "\n",
    "# d = {f.stem: read_csv(f) for f in aws_kline_files}\n",
    "# print(d.keys())"
   ]
  },
  {
   "cell_type": "code",
   "execution_count": null,
   "metadata": {},
   "outputs": [],
   "source": [
    "pl.read_parquet('/home/lostleaf/crypto_data/binance_data/parsed_data/spot/klines/BTCUSDT/1m/202501.pqt')"
   ]
  },
  {
   "cell_type": "code",
   "execution_count": null,
   "metadata": {},
   "outputs": [],
   "source": [
    "read_csv('/home/lostleaf/crypto_data/binance_data/aws_data/data/spot/daily/klines/BTCUSDT/1m/BTCUSDT-1m-2023-03-24.zip')"
   ]
  }
 ],
 "metadata": {
  "kernelspec": {
   "display_name": "datatool",
   "language": "python",
   "name": "python3"
  },
  "language_info": {
   "codemirror_mode": {
    "name": "ipython",
    "version": 3
   },
   "file_extension": ".py",
   "mimetype": "text/x-python",
   "name": "python",
   "nbconvert_exporter": "python",
   "pygments_lexer": "ipython3",
   "version": "3.12.8"
  }
 },
 "nbformat": 4,
 "nbformat_minor": 2
}
