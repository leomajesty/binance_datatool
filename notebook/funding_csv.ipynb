{
 "cells": [
  {
   "cell_type": "code",
   "execution_count": null,
   "metadata": {},
   "outputs": [],
   "source": [
    "import polars as pl\n",
    "from zipfile import ZipFile"
   ]
  },
  {
   "cell_type": "code",
   "execution_count": null,
   "metadata": {},
   "outputs": [],
   "source": [
    "with ZipFile(p) as f:\n",
    "    filename = f.namelist()[0]\n",
    "    lines = f.open(filename).readlines()\n",
    "if lines[0].decode().startswith('calc_time'):\n",
    "    print(lines[0])\n",
    "    lines = lines[1:]\n",
    "\n",
    "columns = ['candle_begin_time', 'funding_interval_hours', 'funding_rate']\n",
    "schema = {\n",
    "    'candle_begin_time': pl.Int64,\n",
    "    'funding_rate': pl.Float64,\n",
    "}\n",
    "df_lazy = pl.scan_csv(lines, has_header=False, new_columns=columns, schema_overrides=schema)\n",
    "df_lazy = df_lazy.drop('funding_interval_hours')\n",
    "candle_begin_time = pl.col('candle_begin_time') - pl.col('candle_begin_time') % (60 * 60 * 1000)\n",
    "df_lazy = df_lazy.with_columns(candle_begin_time.cast(pl.Datetime('ms')).dt.replace_time_zone('UTC'))\n",
    "\n",
    "df_lazy.collect()"
   ]
  }
 ],
 "metadata": {
  "kernelspec": {
   "display_name": "datatool",
   "language": "python",
   "name": "python3"
  },
  "language_info": {
   "codemirror_mode": {
    "name": "ipython",
    "version": 3
   },
   "file_extension": ".py",
   "mimetype": "text/x-python",
   "name": "python",
   "nbconvert_exporter": "python",
   "pygments_lexer": "ipython3",
   "version": "3.12.7"
  }
 },
 "nbformat": 4,
 "nbformat_minor": 2
}
